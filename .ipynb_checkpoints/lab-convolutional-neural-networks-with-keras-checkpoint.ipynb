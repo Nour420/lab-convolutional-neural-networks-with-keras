{
 "cells": [
  {
   "cell_type": "markdown",
   "metadata": {},
   "source": [
    "In this lab, we will learn how to use the Keras library to build convolutional neural networks. We will also use the popular MNIST dataset and we will compare our results to using a conventional neural network.\n"
   ]
  },
  {
   "cell_type": "markdown",
   "metadata": {},
   "source": [
    "<h2>Convolutional Neural Networks with Keras</h2>\n",
    "\n",
    "<h3>Objective for this Notebook<h3>    \n",
    "<h5> 1. How to use the Keras library to build convolutional neural networks.</h5>\n",
    "<h5> 2. Convolutional Neural Network with One Convolutional and Pooling Layers.</h5>\n",
    "<h5> 3. Convolutional Neural Network with Two Convolutional and Pooling Layers.</h5>\n",
    "\n"
   ]
  },
  {
   "cell_type": "markdown",
   "metadata": {},
   "source": [
    "## Table of Contents\n",
    "\n",
    "<div class=\"alert alert-block alert-info\" style=\"margin-top: 20px\">\n",
    "\n",
    "<font size = 3>\n",
    "      \n",
    "1. <a href=\"#item41\">Import Keras and Packages</a>   \n",
    "2. <a href=\"#item42\">Convolutional Neural Network with One Convolutional and Pooling Layers</a>  \n",
    "3. <a href=\"#item43\">Convolutional Neural Network with Two Convolutional and Pooling Layers</a>  \n",
    "\n",
    "</font>\n",
    "</div>\n"
   ]
  },
  {
   "cell_type": "markdown",
   "metadata": {},
   "source": [
    "<a id='item41'></a>\n"
   ]
  },
  {
   "cell_type": "markdown",
   "metadata": {},
   "source": [
    "## Import Keras and Packages\n"
   ]
  },
  {
   "cell_type": "markdown",
   "metadata": {},
   "source": [
    "Let's start by importing the keras libraries and the packages that we would need to build a neural network.\n"
   ]
  },
  {
   "cell_type": "code",
   "execution_count": 1,
   "metadata": {},
   "outputs": [],
   "source": [
    "import keras\n",
    "from keras.models import Sequential\n",
    "from keras.layers import Dense\n",
    "from keras.utils import to_categorical"
   ]
  },
  {
   "cell_type": "markdown",
   "metadata": {},
   "source": [
    "When working with convolutional neural networks in particular, we will need additional packages.\n"
   ]
  },
  {
   "cell_type": "code",
   "execution_count": 2,
   "metadata": {},
   "outputs": [],
   "source": [
    "from keras.layers.convolutional import Conv2D # to add convolutional layers\n",
    "from keras.layers.convolutional import MaxPooling2D # to add pooling layers\n",
    "from keras.layers import Flatten # to flatten data for fully connected layers"
   ]
  },
  {
   "cell_type": "markdown",
   "metadata": {},
   "source": [
    "<a id='item42'></a>\n"
   ]
  },
  {
   "cell_type": "markdown",
   "metadata": {},
   "source": [
    "## Convolutional Layer with One set of convolutional and pooling layers\n"
   ]
  },
  {
   "cell_type": "code",
   "execution_count": 3,
   "metadata": {},
   "outputs": [],
   "source": [
    "# import data\n",
    "from keras.datasets import mnist\n",
    "\n",
    "# load data\n",
    "(X_train, y_train), (X_test, y_test) = mnist.load_data()\n",
    "\n",
    "# reshape to be [samples][pixels][width][height]\n",
    "X_train = X_train.reshape(X_train.shape[0], 28, 28, 1).astype('float32')\n",
    "X_test = X_test.reshape(X_test.shape[0], 28, 28, 1).astype('float32')"
   ]
  },
  {
   "cell_type": "markdown",
   "metadata": {},
   "source": [
    "Let's normalize the pixel values to be between 0 and 1\n"
   ]
  },
  {
   "cell_type": "code",
   "execution_count": 4,
   "metadata": {},
   "outputs": [],
   "source": [
    "X_train = X_train / 255 # normalize training data\n",
    "X_test = X_test / 255 # normalize test data"
   ]
  },
  {
   "cell_type": "markdown",
   "metadata": {},
   "source": [
    "Next, let's convert the target variable into binary categories\n"
   ]
  },
  {
   "cell_type": "code",
   "execution_count": 5,
   "metadata": {},
   "outputs": [],
   "source": [
    "y_train = to_categorical(y_train)\n",
    "y_test = to_categorical(y_test)\n",
    "\n",
    "num_classes = y_test.shape[1] # number of categories"
   ]
  },
  {
   "cell_type": "markdown",
   "metadata": {},
   "source": [
    "Next, let's define a function that creates our model. Let's start with one set of convolutional and pooling layers.\n"
   ]
  },
  {
   "cell_type": "code",
   "execution_count": 6,
   "metadata": {},
   "outputs": [],
   "source": [
    "def convolutional_model():\n",
    "    \n",
    "    # create model\n",
    "    model = Sequential()\n",
    "    model.add(Conv2D(16, (5, 5), strides=(1, 1), activation='relu', input_shape=(28, 28, 1)))\n",
    "    model.add(MaxPooling2D(pool_size=(2, 2), strides=(2, 2)))\n",
    "    \n",
    "    model.add(Flatten())\n",
    "    model.add(Dense(100, activation='relu'))\n",
    "    model.add(Dense(num_classes, activation='softmax'))\n",
    "    \n",
    "    # compile model\n",
    "    model.compile(optimizer='adam', loss='categorical_crossentropy',  metrics=['accuracy'])\n",
    "    return model"
   ]
  },
  {
   "cell_type": "markdown",
   "metadata": {},
   "source": [
    "Finally, let's call the function to create the model, and then let's train it and evaluate it.\n"
   ]
  },
  {
   "cell_type": "code",
   "execution_count": 7,
   "metadata": {},
   "outputs": [
    {
     "name": "stdout",
     "output_type": "stream",
     "text": [
      "Epoch 1/10\n",
      "300/300 - 4s - loss: 0.2750 - accuracy: 0.9251 - val_loss: 0.0919 - val_accuracy: 0.9731 - 4s/epoch - 14ms/step\n",
      "Epoch 2/10\n",
      "300/300 - 3s - loss: 0.0745 - accuracy: 0.9778 - val_loss: 0.0563 - val_accuracy: 0.9826 - 3s/epoch - 11ms/step\n",
      "Epoch 3/10\n",
      "300/300 - 4s - loss: 0.0526 - accuracy: 0.9844 - val_loss: 0.0509 - val_accuracy: 0.9833 - 4s/epoch - 12ms/step\n",
      "Epoch 4/10\n",
      "300/300 - 4s - loss: 0.0413 - accuracy: 0.9876 - val_loss: 0.0466 - val_accuracy: 0.9848 - 4s/epoch - 14ms/step\n",
      "Epoch 5/10\n",
      "300/300 - 4s - loss: 0.0361 - accuracy: 0.9886 - val_loss: 0.0462 - val_accuracy: 0.9845 - 4s/epoch - 15ms/step\n",
      "Epoch 6/10\n",
      "300/300 - 4s - loss: 0.0293 - accuracy: 0.9909 - val_loss: 0.0412 - val_accuracy: 0.9867 - 4s/epoch - 14ms/step\n",
      "Epoch 7/10\n",
      "300/300 - 4s - loss: 0.0228 - accuracy: 0.9929 - val_loss: 0.0380 - val_accuracy: 0.9879 - 4s/epoch - 14ms/step\n",
      "Epoch 8/10\n",
      "300/300 - 4s - loss: 0.0187 - accuracy: 0.9947 - val_loss: 0.0373 - val_accuracy: 0.9872 - 4s/epoch - 15ms/step\n",
      "Epoch 9/10\n",
      "300/300 - 5s - loss: 0.0172 - accuracy: 0.9948 - val_loss: 0.0389 - val_accuracy: 0.9871 - 5s/epoch - 16ms/step\n",
      "Epoch 10/10\n",
      "300/300 - 5s - loss: 0.0142 - accuracy: 0.9958 - val_loss: 0.0363 - val_accuracy: 0.9878 - 5s/epoch - 17ms/step\n",
      "Accuracy: 0.9878000020980835 \n",
      " Error: 1.2199997901916504\n"
     ]
    }
   ],
   "source": [
    "# build the model\n",
    "model = convolutional_model()\n",
    "\n",
    "# fit the model\n",
    "model.fit(X_train, y_train, validation_data=(X_test, y_test), epochs=10, batch_size=200, verbose=2)\n",
    "\n",
    "# evaluate the model\n",
    "scores = model.evaluate(X_test, y_test, verbose=0)\n",
    "print(\"Accuracy: {} \\n Error: {}\".format(scores[1], 100-scores[1]*100))"
   ]
  },
  {
   "cell_type": "markdown",
   "metadata": {},
   "source": [
    "------------------------------------------\n"
   ]
  },
  {
   "cell_type": "markdown",
   "metadata": {},
   "source": [
    "<a id='item43'></a>\n"
   ]
  },
  {
   "cell_type": "markdown",
   "metadata": {},
   "source": [
    "## Convolutional Layer with two sets of convolutional and pooling layers\n"
   ]
  },
  {
   "cell_type": "markdown",
   "metadata": {},
   "source": [
    "Let's redefine our convolutional model so that it has two convolutional and pooling layers instead of just one layer of each.\n"
   ]
  },
  {
   "cell_type": "code",
   "execution_count": 8,
   "metadata": {},
   "outputs": [],
   "source": [
    "def convolutional_model():\n",
    "    \n",
    "    # create model\n",
    "    model = Sequential()\n",
    "    model.add(Conv2D(16, (5, 5), activation='relu', input_shape=(28, 28, 1)))\n",
    "    #add a 2D max pool layer with a stride of 2\n",
    "    #add a conv layer of size 8 with a kernel of side 2\n",
    "    model.add(MaxPooling2D(pool_size=(2, 2), strides=(2, 2)))\n",
    "    model.add(Conv2D(8, (2, 2), activation='relu'))\n",
    "    model.add(Flatten())\n",
    "    #add a dense layer with 100 neurons\n",
    "    model.add(Dense(100, activation='relu'))\n",
    "    model.add(Dense(10, activation='softmax'))\n",
    "    # Compile model\n",
    "    model.compile(optimizer='adam', loss='categorical_crossentropy',  metrics=['accuracy'])\n",
    "    return model"
   ]
  },
  {
   "cell_type": "markdown",
   "metadata": {},
   "source": [
    "Now, let's call the function to create our new convolutional neural network, and then let's train it and evaluate it.\n"
   ]
  },
  {
   "cell_type": "code",
   "execution_count": 9,
   "metadata": {
    "scrolled": true
   },
   "outputs": [
    {
     "name": "stdout",
     "output_type": "stream",
     "text": [
      "Epoch 1/10\n",
      "300/300 - 10s - loss: 0.3446 - accuracy: 0.9058 - val_loss: 0.1261 - val_accuracy: 0.9645 - 10s/epoch - 34ms/step\n",
      "Epoch 2/10\n",
      "300/300 - 10s - loss: 0.1067 - accuracy: 0.9688 - val_loss: 0.0744 - val_accuracy: 0.9757 - 10s/epoch - 32ms/step\n",
      "Epoch 3/10\n",
      "300/300 - 10s - loss: 0.0721 - accuracy: 0.9777 - val_loss: 0.0621 - val_accuracy: 0.9802 - 10s/epoch - 34ms/step\n",
      "Epoch 4/10\n",
      "300/300 - 10s - loss: 0.0550 - accuracy: 0.9839 - val_loss: 0.0466 - val_accuracy: 0.9842 - 10s/epoch - 34ms/step\n",
      "Epoch 5/10\n",
      "300/300 - 9s - loss: 0.0447 - accuracy: 0.9865 - val_loss: 0.0424 - val_accuracy: 0.9854 - 9s/epoch - 30ms/step\n",
      "Epoch 6/10\n",
      "300/300 - 9s - loss: 0.0377 - accuracy: 0.9884 - val_loss: 0.0387 - val_accuracy: 0.9860 - 9s/epoch - 31ms/step\n",
      "Epoch 7/10\n",
      "300/300 - 10s - loss: 0.0335 - accuracy: 0.9896 - val_loss: 0.0356 - val_accuracy: 0.9874 - 10s/epoch - 34ms/step\n",
      "Epoch 8/10\n",
      "300/300 - 9s - loss: 0.0259 - accuracy: 0.9920 - val_loss: 0.0308 - val_accuracy: 0.9895 - 9s/epoch - 31ms/step\n",
      "Epoch 9/10\n",
      "300/300 - 10s - loss: 0.0230 - accuracy: 0.9930 - val_loss: 0.0383 - val_accuracy: 0.9861 - 10s/epoch - 33ms/step\n",
      "Epoch 10/10\n",
      "300/300 - 10s - loss: 0.0189 - accuracy: 0.9940 - val_loss: 0.0375 - val_accuracy: 0.9875 - 10s/epoch - 34ms/step\n",
      "Accuracy: 0.987500011920929 \n",
      " Error: 1.2499988079071045\n"
     ]
    }
   ],
   "source": [
    "# build the model\n",
    "model = convolutional_model()\n",
    "\n",
    "# fit the model\n",
    "model.fit(X_train, y_train, validation_data=(X_test, y_test), epochs=10, batch_size=200, verbose=2)\n",
    "\n",
    "# evaluate the model\n",
    "scores = model.evaluate(X_test, y_test, verbose=0)\n",
    "print(\"Accuracy: {} \\n Error: {}\".format(scores[1], 100-scores[1]*100))"
   ]
  },
  {
   "cell_type": "markdown",
   "metadata": {},
   "source": [
    "### Thank you for completing this lab!"
   ]
  }
 ],
 "metadata": {
  "kernelspec": {
   "display_name": "Python 3 (ipykernel)",
   "language": "python",
   "name": "python3"
  },
  "language_info": {
   "codemirror_mode": {
    "name": "ipython",
    "version": 3
   },
   "file_extension": ".py",
   "mimetype": "text/x-python",
   "name": "python",
   "nbconvert_exporter": "python",
   "pygments_lexer": "ipython3",
   "version": "3.9.18"
  }
 },
 "nbformat": 4,
 "nbformat_minor": 4
}
